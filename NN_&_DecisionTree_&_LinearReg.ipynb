{
  "nbformat": 4,
  "nbformat_minor": 0,
  "metadata": {
    "colab": {
      "provenance": []
    },
    "kernelspec": {
      "name": "python3",
      "display_name": "Python 3"
    },
    "language_info": {
      "name": "python"
    }
  },
  "cells": [
    {
      "cell_type": "code",
      "execution_count": null,
      "metadata": {
        "id": "X5WygfVkY4G2"
      },
      "outputs": [],
      "source": [
        "# Import required libraries\n",
        "from keras.models import Sequential\n",
        "from keras.layers import Dense, Activation\n",
        "from sklearn.model_selection import train_test_split\n",
        "from sklearn.preprocessing import LabelEncoder,StandardScaler\n",
        "from sklearn.ensemble import RandomForestRegressor\n",
        "from sklearn.metrics import mean_absolute_error,mean_squared_error,r2_score\n",
        "from sklearn import linear_model\n",
        "from sklearn.tree import DecisionTreeRegressor\n",
        "import matplotlib.pyplot as plt\n",
        "import pandas as pd\n",
        "import numpy as np"
      ]
    },
    {
      "cell_type": "markdown",
      "source": [
        "Preprocessing"
      ],
      "metadata": {
        "id": "9TSX6CLrbV7q"
      }
    },
    {
      "cell_type": "code",
      "source": [
        "# read the data\n",
        "data = pd.read_csv('/content/insurance.csv')\n",
        "data.shape"
      ],
      "metadata": {
        "colab": {
          "base_uri": "https://localhost:8080/"
        },
        "id": "Kq2PoQM5aUch",
        "outputId": "3ec7c202-aea5-4a07-cd22-5c61ed8c7b97"
      },
      "execution_count": null,
      "outputs": [
        {
          "output_type": "execute_result",
          "data": {
            "text/plain": [
              "(1338, 7)"
            ]
          },
          "metadata": {},
          "execution_count": 2
        }
      ]
    },
    {
      "cell_type": "code",
      "source": [
        "data.head(5)\n"
      ],
      "metadata": {
        "colab": {
          "base_uri": "https://localhost:8080/",
          "height": 206
        },
        "id": "SixIRqpYbyVc",
        "outputId": "d9912fad-3a9e-464c-d6a0-735a7cb52e6e"
      },
      "execution_count": null,
      "outputs": [
        {
          "output_type": "execute_result",
          "data": {
            "text/plain": [
              "   age     sex     bmi  children smoker     region      charges\n",
              "0   19  female  27.900         0    yes  southwest  16884.92400\n",
              "1   18    male  33.770         1     no  southeast   1725.55230\n",
              "2   28    male  33.000         3     no  southeast   4449.46200\n",
              "3   33    male  22.705         0     no  northwest  21984.47061\n",
              "4   32    male  28.880         0     no  northwest   3866.85520"
            ],
            "text/html": [
              "\n",
              "  <div id=\"df-4a9f3810-601b-4c4b-8a83-e29705b55844\" class=\"colab-df-container\">\n",
              "    <div>\n",
              "<style scoped>\n",
              "    .dataframe tbody tr th:only-of-type {\n",
              "        vertical-align: middle;\n",
              "    }\n",
              "\n",
              "    .dataframe tbody tr th {\n",
              "        vertical-align: top;\n",
              "    }\n",
              "\n",
              "    .dataframe thead th {\n",
              "        text-align: right;\n",
              "    }\n",
              "</style>\n",
              "<table border=\"1\" class=\"dataframe\">\n",
              "  <thead>\n",
              "    <tr style=\"text-align: right;\">\n",
              "      <th></th>\n",
              "      <th>age</th>\n",
              "      <th>sex</th>\n",
              "      <th>bmi</th>\n",
              "      <th>children</th>\n",
              "      <th>smoker</th>\n",
              "      <th>region</th>\n",
              "      <th>charges</th>\n",
              "    </tr>\n",
              "  </thead>\n",
              "  <tbody>\n",
              "    <tr>\n",
              "      <th>0</th>\n",
              "      <td>19</td>\n",
              "      <td>female</td>\n",
              "      <td>27.900</td>\n",
              "      <td>0</td>\n",
              "      <td>yes</td>\n",
              "      <td>southwest</td>\n",
              "      <td>16884.92400</td>\n",
              "    </tr>\n",
              "    <tr>\n",
              "      <th>1</th>\n",
              "      <td>18</td>\n",
              "      <td>male</td>\n",
              "      <td>33.770</td>\n",
              "      <td>1</td>\n",
              "      <td>no</td>\n",
              "      <td>southeast</td>\n",
              "      <td>1725.55230</td>\n",
              "    </tr>\n",
              "    <tr>\n",
              "      <th>2</th>\n",
              "      <td>28</td>\n",
              "      <td>male</td>\n",
              "      <td>33.000</td>\n",
              "      <td>3</td>\n",
              "      <td>no</td>\n",
              "      <td>southeast</td>\n",
              "      <td>4449.46200</td>\n",
              "    </tr>\n",
              "    <tr>\n",
              "      <th>3</th>\n",
              "      <td>33</td>\n",
              "      <td>male</td>\n",
              "      <td>22.705</td>\n",
              "      <td>0</td>\n",
              "      <td>no</td>\n",
              "      <td>northwest</td>\n",
              "      <td>21984.47061</td>\n",
              "    </tr>\n",
              "    <tr>\n",
              "      <th>4</th>\n",
              "      <td>32</td>\n",
              "      <td>male</td>\n",
              "      <td>28.880</td>\n",
              "      <td>0</td>\n",
              "      <td>no</td>\n",
              "      <td>northwest</td>\n",
              "      <td>3866.85520</td>\n",
              "    </tr>\n",
              "  </tbody>\n",
              "</table>\n",
              "</div>\n",
              "    <div class=\"colab-df-buttons\">\n",
              "\n",
              "  <div class=\"colab-df-container\">\n",
              "    <button class=\"colab-df-convert\" onclick=\"convertToInteractive('df-4a9f3810-601b-4c4b-8a83-e29705b55844')\"\n",
              "            title=\"Convert this dataframe to an interactive table.\"\n",
              "            style=\"display:none;\">\n",
              "\n",
              "  <svg xmlns=\"http://www.w3.org/2000/svg\" height=\"24px\" viewBox=\"0 -960 960 960\">\n",
              "    <path d=\"M120-120v-720h720v720H120Zm60-500h600v-160H180v160Zm220 220h160v-160H400v160Zm0 220h160v-160H400v160ZM180-400h160v-160H180v160Zm440 0h160v-160H620v160ZM180-180h160v-160H180v160Zm440 0h160v-160H620v160Z\"/>\n",
              "  </svg>\n",
              "    </button>\n",
              "\n",
              "  <style>\n",
              "    .colab-df-container {\n",
              "      display:flex;\n",
              "      gap: 12px;\n",
              "    }\n",
              "\n",
              "    .colab-df-convert {\n",
              "      background-color: #E8F0FE;\n",
              "      border: none;\n",
              "      border-radius: 50%;\n",
              "      cursor: pointer;\n",
              "      display: none;\n",
              "      fill: #1967D2;\n",
              "      height: 32px;\n",
              "      padding: 0 0 0 0;\n",
              "      width: 32px;\n",
              "    }\n",
              "\n",
              "    .colab-df-convert:hover {\n",
              "      background-color: #E2EBFA;\n",
              "      box-shadow: 0px 1px 2px rgba(60, 64, 67, 0.3), 0px 1px 3px 1px rgba(60, 64, 67, 0.15);\n",
              "      fill: #174EA6;\n",
              "    }\n",
              "\n",
              "    .colab-df-buttons div {\n",
              "      margin-bottom: 4px;\n",
              "    }\n",
              "\n",
              "    [theme=dark] .colab-df-convert {\n",
              "      background-color: #3B4455;\n",
              "      fill: #D2E3FC;\n",
              "    }\n",
              "\n",
              "    [theme=dark] .colab-df-convert:hover {\n",
              "      background-color: #434B5C;\n",
              "      box-shadow: 0px 1px 3px 1px rgba(0, 0, 0, 0.15);\n",
              "      filter: drop-shadow(0px 1px 2px rgba(0, 0, 0, 0.3));\n",
              "      fill: #FFFFFF;\n",
              "    }\n",
              "  </style>\n",
              "\n",
              "    <script>\n",
              "      const buttonEl =\n",
              "        document.querySelector('#df-4a9f3810-601b-4c4b-8a83-e29705b55844 button.colab-df-convert');\n",
              "      buttonEl.style.display =\n",
              "        google.colab.kernel.accessAllowed ? 'block' : 'none';\n",
              "\n",
              "      async function convertToInteractive(key) {\n",
              "        const element = document.querySelector('#df-4a9f3810-601b-4c4b-8a83-e29705b55844');\n",
              "        const dataTable =\n",
              "          await google.colab.kernel.invokeFunction('convertToInteractive',\n",
              "                                                    [key], {});\n",
              "        if (!dataTable) return;\n",
              "\n",
              "        const docLinkHtml = 'Like what you see? Visit the ' +\n",
              "          '<a target=\"_blank\" href=https://colab.research.google.com/notebooks/data_table.ipynb>data table notebook</a>'\n",
              "          + ' to learn more about interactive tables.';\n",
              "        element.innerHTML = '';\n",
              "        dataTable['output_type'] = 'display_data';\n",
              "        await google.colab.output.renderOutput(dataTable, element);\n",
              "        const docLink = document.createElement('div');\n",
              "        docLink.innerHTML = docLinkHtml;\n",
              "        element.appendChild(docLink);\n",
              "      }\n",
              "    </script>\n",
              "  </div>\n",
              "\n",
              "\n",
              "<div id=\"df-7beb91e4-11c0-434c-b8d6-6089904147e4\">\n",
              "  <button class=\"colab-df-quickchart\" onclick=\"quickchart('df-7beb91e4-11c0-434c-b8d6-6089904147e4')\"\n",
              "            title=\"Suggest charts\"\n",
              "            style=\"display:none;\">\n",
              "\n",
              "<svg xmlns=\"http://www.w3.org/2000/svg\" height=\"24px\"viewBox=\"0 0 24 24\"\n",
              "     width=\"24px\">\n",
              "    <g>\n",
              "        <path d=\"M19 3H5c-1.1 0-2 .9-2 2v14c0 1.1.9 2 2 2h14c1.1 0 2-.9 2-2V5c0-1.1-.9-2-2-2zM9 17H7v-7h2v7zm4 0h-2V7h2v10zm4 0h-2v-4h2v4z\"/>\n",
              "    </g>\n",
              "</svg>\n",
              "  </button>\n",
              "\n",
              "<style>\n",
              "  .colab-df-quickchart {\n",
              "      --bg-color: #E8F0FE;\n",
              "      --fill-color: #1967D2;\n",
              "      --hover-bg-color: #E2EBFA;\n",
              "      --hover-fill-color: #174EA6;\n",
              "      --disabled-fill-color: #AAA;\n",
              "      --disabled-bg-color: #DDD;\n",
              "  }\n",
              "\n",
              "  [theme=dark] .colab-df-quickchart {\n",
              "      --bg-color: #3B4455;\n",
              "      --fill-color: #D2E3FC;\n",
              "      --hover-bg-color: #434B5C;\n",
              "      --hover-fill-color: #FFFFFF;\n",
              "      --disabled-bg-color: #3B4455;\n",
              "      --disabled-fill-color: #666;\n",
              "  }\n",
              "\n",
              "  .colab-df-quickchart {\n",
              "    background-color: var(--bg-color);\n",
              "    border: none;\n",
              "    border-radius: 50%;\n",
              "    cursor: pointer;\n",
              "    display: none;\n",
              "    fill: var(--fill-color);\n",
              "    height: 32px;\n",
              "    padding: 0;\n",
              "    width: 32px;\n",
              "  }\n",
              "\n",
              "  .colab-df-quickchart:hover {\n",
              "    background-color: var(--hover-bg-color);\n",
              "    box-shadow: 0 1px 2px rgba(60, 64, 67, 0.3), 0 1px 3px 1px rgba(60, 64, 67, 0.15);\n",
              "    fill: var(--button-hover-fill-color);\n",
              "  }\n",
              "\n",
              "  .colab-df-quickchart-complete:disabled,\n",
              "  .colab-df-quickchart-complete:disabled:hover {\n",
              "    background-color: var(--disabled-bg-color);\n",
              "    fill: var(--disabled-fill-color);\n",
              "    box-shadow: none;\n",
              "  }\n",
              "\n",
              "  .colab-df-spinner {\n",
              "    border: 2px solid var(--fill-color);\n",
              "    border-color: transparent;\n",
              "    border-bottom-color: var(--fill-color);\n",
              "    animation:\n",
              "      spin 1s steps(1) infinite;\n",
              "  }\n",
              "\n",
              "  @keyframes spin {\n",
              "    0% {\n",
              "      border-color: transparent;\n",
              "      border-bottom-color: var(--fill-color);\n",
              "      border-left-color: var(--fill-color);\n",
              "    }\n",
              "    20% {\n",
              "      border-color: transparent;\n",
              "      border-left-color: var(--fill-color);\n",
              "      border-top-color: var(--fill-color);\n",
              "    }\n",
              "    30% {\n",
              "      border-color: transparent;\n",
              "      border-left-color: var(--fill-color);\n",
              "      border-top-color: var(--fill-color);\n",
              "      border-right-color: var(--fill-color);\n",
              "    }\n",
              "    40% {\n",
              "      border-color: transparent;\n",
              "      border-right-color: var(--fill-color);\n",
              "      border-top-color: var(--fill-color);\n",
              "    }\n",
              "    60% {\n",
              "      border-color: transparent;\n",
              "      border-right-color: var(--fill-color);\n",
              "    }\n",
              "    80% {\n",
              "      border-color: transparent;\n",
              "      border-right-color: var(--fill-color);\n",
              "      border-bottom-color: var(--fill-color);\n",
              "    }\n",
              "    90% {\n",
              "      border-color: transparent;\n",
              "      border-bottom-color: var(--fill-color);\n",
              "    }\n",
              "  }\n",
              "</style>\n",
              "\n",
              "  <script>\n",
              "    async function quickchart(key) {\n",
              "      const quickchartButtonEl =\n",
              "        document.querySelector('#' + key + ' button');\n",
              "      quickchartButtonEl.disabled = true;  // To prevent multiple clicks.\n",
              "      quickchartButtonEl.classList.add('colab-df-spinner');\n",
              "      try {\n",
              "        const charts = await google.colab.kernel.invokeFunction(\n",
              "            'suggestCharts', [key], {});\n",
              "      } catch (error) {\n",
              "        console.error('Error during call to suggestCharts:', error);\n",
              "      }\n",
              "      quickchartButtonEl.classList.remove('colab-df-spinner');\n",
              "      quickchartButtonEl.classList.add('colab-df-quickchart-complete');\n",
              "    }\n",
              "    (() => {\n",
              "      let quickchartButtonEl =\n",
              "        document.querySelector('#df-7beb91e4-11c0-434c-b8d6-6089904147e4 button');\n",
              "      quickchartButtonEl.style.display =\n",
              "        google.colab.kernel.accessAllowed ? 'block' : 'none';\n",
              "    })();\n",
              "  </script>\n",
              "</div>\n",
              "\n",
              "    </div>\n",
              "  </div>\n"
            ],
            "application/vnd.google.colaboratory.intrinsic+json": {
              "type": "dataframe",
              "variable_name": "data",
              "summary": "{\n  \"name\": \"data\",\n  \"rows\": 1338,\n  \"fields\": [\n    {\n      \"column\": \"age\",\n      \"properties\": {\n        \"dtype\": \"number\",\n        \"std\": 14,\n        \"min\": 18,\n        \"max\": 64,\n        \"num_unique_values\": 47,\n        \"samples\": [\n          21,\n          45,\n          36\n        ],\n        \"semantic_type\": \"\",\n        \"description\": \"\"\n      }\n    },\n    {\n      \"column\": \"sex\",\n      \"properties\": {\n        \"dtype\": \"category\",\n        \"num_unique_values\": 2,\n        \"samples\": [\n          \"male\",\n          \"female\"\n        ],\n        \"semantic_type\": \"\",\n        \"description\": \"\"\n      }\n    },\n    {\n      \"column\": \"bmi\",\n      \"properties\": {\n        \"dtype\": \"number\",\n        \"std\": 6.098186911679014,\n        \"min\": 15.96,\n        \"max\": 53.13,\n        \"num_unique_values\": 548,\n        \"samples\": [\n          23.18,\n          26.885\n        ],\n        \"semantic_type\": \"\",\n        \"description\": \"\"\n      }\n    },\n    {\n      \"column\": \"children\",\n      \"properties\": {\n        \"dtype\": \"number\",\n        \"std\": 1,\n        \"min\": 0,\n        \"max\": 5,\n        \"num_unique_values\": 6,\n        \"samples\": [\n          0,\n          1\n        ],\n        \"semantic_type\": \"\",\n        \"description\": \"\"\n      }\n    },\n    {\n      \"column\": \"smoker\",\n      \"properties\": {\n        \"dtype\": \"category\",\n        \"num_unique_values\": 2,\n        \"samples\": [\n          \"no\",\n          \"yes\"\n        ],\n        \"semantic_type\": \"\",\n        \"description\": \"\"\n      }\n    },\n    {\n      \"column\": \"region\",\n      \"properties\": {\n        \"dtype\": \"category\",\n        \"num_unique_values\": 4,\n        \"samples\": [\n          \"southeast\",\n          \"northeast\"\n        ],\n        \"semantic_type\": \"\",\n        \"description\": \"\"\n      }\n    },\n    {\n      \"column\": \"charges\",\n      \"properties\": {\n        \"dtype\": \"number\",\n        \"std\": 12110.011236694001,\n        \"min\": 1121.8739,\n        \"max\": 63770.42801,\n        \"num_unique_values\": 1337,\n        \"samples\": [\n          8688.85885,\n          5708.867\n        ],\n        \"semantic_type\": \"\",\n        \"description\": \"\"\n      }\n    }\n  ]\n}"
            }
          },
          "metadata": {},
          "execution_count": 3
        }
      ]
    },
    {
      "cell_type": "code",
      "source": [
        "data.dropna(how = 'any', inplace = True) # drop missing values\n",
        "data.drop_duplicates(inplace = True) # drop duplicates\n"
      ],
      "metadata": {
        "id": "ZDbFnh92dbR0"
      },
      "execution_count": null,
      "outputs": []
    },
    {
      "cell_type": "code",
      "source": [
        "#Feature Encoding\n",
        "Label_Encoder = LabelEncoder()\n",
        "data['Gender_encoded'] = Label_Encoder.fit_transform(data['sex'])\n",
        "data['smoker_encoded'] = Label_Encoder.fit_transform(data['smoker'])\n",
        "data['region_encoded'] = Label_Encoder.fit_transform(data['region'])"
      ],
      "metadata": {
        "id": "qxpBiW16dymv"
      },
      "execution_count": null,
      "outputs": []
    },
    {
      "cell_type": "code",
      "source": [
        "data.head(5)"
      ],
      "metadata": {
        "colab": {
          "base_uri": "https://localhost:8080/",
          "height": 206
        },
        "id": "TPxTQJqgVFh0",
        "outputId": "9a97de22-6fc8-4b5b-e6a8-3519ff836aa7"
      },
      "execution_count": null,
      "outputs": [
        {
          "output_type": "execute_result",
          "data": {
            "text/plain": [
              "   age     sex     bmi  children smoker     region      charges  \\\n",
              "0   19  female  27.900         0    yes  southwest  16884.92400   \n",
              "1   18    male  33.770         1     no  southeast   1725.55230   \n",
              "2   28    male  33.000         3     no  southeast   4449.46200   \n",
              "3   33    male  22.705         0     no  northwest  21984.47061   \n",
              "4   32    male  28.880         0     no  northwest   3866.85520   \n",
              "\n",
              "   Gender_encoded  smoker_encoded  region_encoded  \n",
              "0               0               1               3  \n",
              "1               1               0               2  \n",
              "2               1               0               2  \n",
              "3               1               0               1  \n",
              "4               1               0               1  "
            ],
            "text/html": [
              "\n",
              "  <div id=\"df-c8f8ad37-7177-4008-80cd-ba2fcaec98f5\" class=\"colab-df-container\">\n",
              "    <div>\n",
              "<style scoped>\n",
              "    .dataframe tbody tr th:only-of-type {\n",
              "        vertical-align: middle;\n",
              "    }\n",
              "\n",
              "    .dataframe tbody tr th {\n",
              "        vertical-align: top;\n",
              "    }\n",
              "\n",
              "    .dataframe thead th {\n",
              "        text-align: right;\n",
              "    }\n",
              "</style>\n",
              "<table border=\"1\" class=\"dataframe\">\n",
              "  <thead>\n",
              "    <tr style=\"text-align: right;\">\n",
              "      <th></th>\n",
              "      <th>age</th>\n",
              "      <th>sex</th>\n",
              "      <th>bmi</th>\n",
              "      <th>children</th>\n",
              "      <th>smoker</th>\n",
              "      <th>region</th>\n",
              "      <th>charges</th>\n",
              "      <th>Gender_encoded</th>\n",
              "      <th>smoker_encoded</th>\n",
              "      <th>region_encoded</th>\n",
              "    </tr>\n",
              "  </thead>\n",
              "  <tbody>\n",
              "    <tr>\n",
              "      <th>0</th>\n",
              "      <td>19</td>\n",
              "      <td>female</td>\n",
              "      <td>27.900</td>\n",
              "      <td>0</td>\n",
              "      <td>yes</td>\n",
              "      <td>southwest</td>\n",
              "      <td>16884.92400</td>\n",
              "      <td>0</td>\n",
              "      <td>1</td>\n",
              "      <td>3</td>\n",
              "    </tr>\n",
              "    <tr>\n",
              "      <th>1</th>\n",
              "      <td>18</td>\n",
              "      <td>male</td>\n",
              "      <td>33.770</td>\n",
              "      <td>1</td>\n",
              "      <td>no</td>\n",
              "      <td>southeast</td>\n",
              "      <td>1725.55230</td>\n",
              "      <td>1</td>\n",
              "      <td>0</td>\n",
              "      <td>2</td>\n",
              "    </tr>\n",
              "    <tr>\n",
              "      <th>2</th>\n",
              "      <td>28</td>\n",
              "      <td>male</td>\n",
              "      <td>33.000</td>\n",
              "      <td>3</td>\n",
              "      <td>no</td>\n",
              "      <td>southeast</td>\n",
              "      <td>4449.46200</td>\n",
              "      <td>1</td>\n",
              "      <td>0</td>\n",
              "      <td>2</td>\n",
              "    </tr>\n",
              "    <tr>\n",
              "      <th>3</th>\n",
              "      <td>33</td>\n",
              "      <td>male</td>\n",
              "      <td>22.705</td>\n",
              "      <td>0</td>\n",
              "      <td>no</td>\n",
              "      <td>northwest</td>\n",
              "      <td>21984.47061</td>\n",
              "      <td>1</td>\n",
              "      <td>0</td>\n",
              "      <td>1</td>\n",
              "    </tr>\n",
              "    <tr>\n",
              "      <th>4</th>\n",
              "      <td>32</td>\n",
              "      <td>male</td>\n",
              "      <td>28.880</td>\n",
              "      <td>0</td>\n",
              "      <td>no</td>\n",
              "      <td>northwest</td>\n",
              "      <td>3866.85520</td>\n",
              "      <td>1</td>\n",
              "      <td>0</td>\n",
              "      <td>1</td>\n",
              "    </tr>\n",
              "  </tbody>\n",
              "</table>\n",
              "</div>\n",
              "    <div class=\"colab-df-buttons\">\n",
              "\n",
              "  <div class=\"colab-df-container\">\n",
              "    <button class=\"colab-df-convert\" onclick=\"convertToInteractive('df-c8f8ad37-7177-4008-80cd-ba2fcaec98f5')\"\n",
              "            title=\"Convert this dataframe to an interactive table.\"\n",
              "            style=\"display:none;\">\n",
              "\n",
              "  <svg xmlns=\"http://www.w3.org/2000/svg\" height=\"24px\" viewBox=\"0 -960 960 960\">\n",
              "    <path d=\"M120-120v-720h720v720H120Zm60-500h600v-160H180v160Zm220 220h160v-160H400v160Zm0 220h160v-160H400v160ZM180-400h160v-160H180v160Zm440 0h160v-160H620v160ZM180-180h160v-160H180v160Zm440 0h160v-160H620v160Z\"/>\n",
              "  </svg>\n",
              "    </button>\n",
              "\n",
              "  <style>\n",
              "    .colab-df-container {\n",
              "      display:flex;\n",
              "      gap: 12px;\n",
              "    }\n",
              "\n",
              "    .colab-df-convert {\n",
              "      background-color: #E8F0FE;\n",
              "      border: none;\n",
              "      border-radius: 50%;\n",
              "      cursor: pointer;\n",
              "      display: none;\n",
              "      fill: #1967D2;\n",
              "      height: 32px;\n",
              "      padding: 0 0 0 0;\n",
              "      width: 32px;\n",
              "    }\n",
              "\n",
              "    .colab-df-convert:hover {\n",
              "      background-color: #E2EBFA;\n",
              "      box-shadow: 0px 1px 2px rgba(60, 64, 67, 0.3), 0px 1px 3px 1px rgba(60, 64, 67, 0.15);\n",
              "      fill: #174EA6;\n",
              "    }\n",
              "\n",
              "    .colab-df-buttons div {\n",
              "      margin-bottom: 4px;\n",
              "    }\n",
              "\n",
              "    [theme=dark] .colab-df-convert {\n",
              "      background-color: #3B4455;\n",
              "      fill: #D2E3FC;\n",
              "    }\n",
              "\n",
              "    [theme=dark] .colab-df-convert:hover {\n",
              "      background-color: #434B5C;\n",
              "      box-shadow: 0px 1px 3px 1px rgba(0, 0, 0, 0.15);\n",
              "      filter: drop-shadow(0px 1px 2px rgba(0, 0, 0, 0.3));\n",
              "      fill: #FFFFFF;\n",
              "    }\n",
              "  </style>\n",
              "\n",
              "    <script>\n",
              "      const buttonEl =\n",
              "        document.querySelector('#df-c8f8ad37-7177-4008-80cd-ba2fcaec98f5 button.colab-df-convert');\n",
              "      buttonEl.style.display =\n",
              "        google.colab.kernel.accessAllowed ? 'block' : 'none';\n",
              "\n",
              "      async function convertToInteractive(key) {\n",
              "        const element = document.querySelector('#df-c8f8ad37-7177-4008-80cd-ba2fcaec98f5');\n",
              "        const dataTable =\n",
              "          await google.colab.kernel.invokeFunction('convertToInteractive',\n",
              "                                                    [key], {});\n",
              "        if (!dataTable) return;\n",
              "\n",
              "        const docLinkHtml = 'Like what you see? Visit the ' +\n",
              "          '<a target=\"_blank\" href=https://colab.research.google.com/notebooks/data_table.ipynb>data table notebook</a>'\n",
              "          + ' to learn more about interactive tables.';\n",
              "        element.innerHTML = '';\n",
              "        dataTable['output_type'] = 'display_data';\n",
              "        await google.colab.output.renderOutput(dataTable, element);\n",
              "        const docLink = document.createElement('div');\n",
              "        docLink.innerHTML = docLinkHtml;\n",
              "        element.appendChild(docLink);\n",
              "      }\n",
              "    </script>\n",
              "  </div>\n",
              "\n",
              "\n",
              "<div id=\"df-f0ae47b1-8709-4425-9774-ab880de4fe2b\">\n",
              "  <button class=\"colab-df-quickchart\" onclick=\"quickchart('df-f0ae47b1-8709-4425-9774-ab880de4fe2b')\"\n",
              "            title=\"Suggest charts\"\n",
              "            style=\"display:none;\">\n",
              "\n",
              "<svg xmlns=\"http://www.w3.org/2000/svg\" height=\"24px\"viewBox=\"0 0 24 24\"\n",
              "     width=\"24px\">\n",
              "    <g>\n",
              "        <path d=\"M19 3H5c-1.1 0-2 .9-2 2v14c0 1.1.9 2 2 2h14c1.1 0 2-.9 2-2V5c0-1.1-.9-2-2-2zM9 17H7v-7h2v7zm4 0h-2V7h2v10zm4 0h-2v-4h2v4z\"/>\n",
              "    </g>\n",
              "</svg>\n",
              "  </button>\n",
              "\n",
              "<style>\n",
              "  .colab-df-quickchart {\n",
              "      --bg-color: #E8F0FE;\n",
              "      --fill-color: #1967D2;\n",
              "      --hover-bg-color: #E2EBFA;\n",
              "      --hover-fill-color: #174EA6;\n",
              "      --disabled-fill-color: #AAA;\n",
              "      --disabled-bg-color: #DDD;\n",
              "  }\n",
              "\n",
              "  [theme=dark] .colab-df-quickchart {\n",
              "      --bg-color: #3B4455;\n",
              "      --fill-color: #D2E3FC;\n",
              "      --hover-bg-color: #434B5C;\n",
              "      --hover-fill-color: #FFFFFF;\n",
              "      --disabled-bg-color: #3B4455;\n",
              "      --disabled-fill-color: #666;\n",
              "  }\n",
              "\n",
              "  .colab-df-quickchart {\n",
              "    background-color: var(--bg-color);\n",
              "    border: none;\n",
              "    border-radius: 50%;\n",
              "    cursor: pointer;\n",
              "    display: none;\n",
              "    fill: var(--fill-color);\n",
              "    height: 32px;\n",
              "    padding: 0;\n",
              "    width: 32px;\n",
              "  }\n",
              "\n",
              "  .colab-df-quickchart:hover {\n",
              "    background-color: var(--hover-bg-color);\n",
              "    box-shadow: 0 1px 2px rgba(60, 64, 67, 0.3), 0 1px 3px 1px rgba(60, 64, 67, 0.15);\n",
              "    fill: var(--button-hover-fill-color);\n",
              "  }\n",
              "\n",
              "  .colab-df-quickchart-complete:disabled,\n",
              "  .colab-df-quickchart-complete:disabled:hover {\n",
              "    background-color: var(--disabled-bg-color);\n",
              "    fill: var(--disabled-fill-color);\n",
              "    box-shadow: none;\n",
              "  }\n",
              "\n",
              "  .colab-df-spinner {\n",
              "    border: 2px solid var(--fill-color);\n",
              "    border-color: transparent;\n",
              "    border-bottom-color: var(--fill-color);\n",
              "    animation:\n",
              "      spin 1s steps(1) infinite;\n",
              "  }\n",
              "\n",
              "  @keyframes spin {\n",
              "    0% {\n",
              "      border-color: transparent;\n",
              "      border-bottom-color: var(--fill-color);\n",
              "      border-left-color: var(--fill-color);\n",
              "    }\n",
              "    20% {\n",
              "      border-color: transparent;\n",
              "      border-left-color: var(--fill-color);\n",
              "      border-top-color: var(--fill-color);\n",
              "    }\n",
              "    30% {\n",
              "      border-color: transparent;\n",
              "      border-left-color: var(--fill-color);\n",
              "      border-top-color: var(--fill-color);\n",
              "      border-right-color: var(--fill-color);\n",
              "    }\n",
              "    40% {\n",
              "      border-color: transparent;\n",
              "      border-right-color: var(--fill-color);\n",
              "      border-top-color: var(--fill-color);\n",
              "    }\n",
              "    60% {\n",
              "      border-color: transparent;\n",
              "      border-right-color: var(--fill-color);\n",
              "    }\n",
              "    80% {\n",
              "      border-color: transparent;\n",
              "      border-right-color: var(--fill-color);\n",
              "      border-bottom-color: var(--fill-color);\n",
              "    }\n",
              "    90% {\n",
              "      border-color: transparent;\n",
              "      border-bottom-color: var(--fill-color);\n",
              "    }\n",
              "  }\n",
              "</style>\n",
              "\n",
              "  <script>\n",
              "    async function quickchart(key) {\n",
              "      const quickchartButtonEl =\n",
              "        document.querySelector('#' + key + ' button');\n",
              "      quickchartButtonEl.disabled = true;  // To prevent multiple clicks.\n",
              "      quickchartButtonEl.classList.add('colab-df-spinner');\n",
              "      try {\n",
              "        const charts = await google.colab.kernel.invokeFunction(\n",
              "            'suggestCharts', [key], {});\n",
              "      } catch (error) {\n",
              "        console.error('Error during call to suggestCharts:', error);\n",
              "      }\n",
              "      quickchartButtonEl.classList.remove('colab-df-spinner');\n",
              "      quickchartButtonEl.classList.add('colab-df-quickchart-complete');\n",
              "    }\n",
              "    (() => {\n",
              "      let quickchartButtonEl =\n",
              "        document.querySelector('#df-f0ae47b1-8709-4425-9774-ab880de4fe2b button');\n",
              "      quickchartButtonEl.style.display =\n",
              "        google.colab.kernel.accessAllowed ? 'block' : 'none';\n",
              "    })();\n",
              "  </script>\n",
              "</div>\n",
              "\n",
              "    </div>\n",
              "  </div>\n"
            ],
            "application/vnd.google.colaboratory.intrinsic+json": {
              "type": "dataframe",
              "variable_name": "data",
              "summary": "{\n  \"name\": \"data\",\n  \"rows\": 1337,\n  \"fields\": [\n    {\n      \"column\": \"age\",\n      \"properties\": {\n        \"dtype\": \"number\",\n        \"std\": 14,\n        \"min\": 18,\n        \"max\": 64,\n        \"num_unique_values\": 47,\n        \"samples\": [\n          21,\n          45,\n          36\n        ],\n        \"semantic_type\": \"\",\n        \"description\": \"\"\n      }\n    },\n    {\n      \"column\": \"sex\",\n      \"properties\": {\n        \"dtype\": \"category\",\n        \"num_unique_values\": 2,\n        \"samples\": [\n          \"male\",\n          \"female\"\n        ],\n        \"semantic_type\": \"\",\n        \"description\": \"\"\n      }\n    },\n    {\n      \"column\": \"bmi\",\n      \"properties\": {\n        \"dtype\": \"number\",\n        \"std\": 6.100468409615801,\n        \"min\": 15.96,\n        \"max\": 53.13,\n        \"num_unique_values\": 548,\n        \"samples\": [\n          23.18,\n          26.885\n        ],\n        \"semantic_type\": \"\",\n        \"description\": \"\"\n      }\n    },\n    {\n      \"column\": \"children\",\n      \"properties\": {\n        \"dtype\": \"number\",\n        \"std\": 1,\n        \"min\": 0,\n        \"max\": 5,\n        \"num_unique_values\": 6,\n        \"samples\": [\n          0,\n          1\n        ],\n        \"semantic_type\": \"\",\n        \"description\": \"\"\n      }\n    },\n    {\n      \"column\": \"smoker\",\n      \"properties\": {\n        \"dtype\": \"category\",\n        \"num_unique_values\": 2,\n        \"samples\": [\n          \"no\",\n          \"yes\"\n        ],\n        \"semantic_type\": \"\",\n        \"description\": \"\"\n      }\n    },\n    {\n      \"column\": \"region\",\n      \"properties\": {\n        \"dtype\": \"category\",\n        \"num_unique_values\": 4,\n        \"samples\": [\n          \"southeast\",\n          \"northeast\"\n        ],\n        \"semantic_type\": \"\",\n        \"description\": \"\"\n      }\n    },\n    {\n      \"column\": \"charges\",\n      \"properties\": {\n        \"dtype\": \"number\",\n        \"std\": 12110.359656344175,\n        \"min\": 1121.8739,\n        \"max\": 63770.42801,\n        \"num_unique_values\": 1337,\n        \"samples\": [\n          8688.85885,\n          5708.867\n        ],\n        \"semantic_type\": \"\",\n        \"description\": \"\"\n      }\n    },\n    {\n      \"column\": \"Gender_encoded\",\n      \"properties\": {\n        \"dtype\": \"number\",\n        \"std\": 0,\n        \"min\": 0,\n        \"max\": 1,\n        \"num_unique_values\": 2,\n        \"samples\": [\n          1,\n          0\n        ],\n        \"semantic_type\": \"\",\n        \"description\": \"\"\n      }\n    },\n    {\n      \"column\": \"smoker_encoded\",\n      \"properties\": {\n        \"dtype\": \"number\",\n        \"std\": 0,\n        \"min\": 0,\n        \"max\": 1,\n        \"num_unique_values\": 2,\n        \"samples\": [\n          0,\n          1\n        ],\n        \"semantic_type\": \"\",\n        \"description\": \"\"\n      }\n    },\n    {\n      \"column\": \"region_encoded\",\n      \"properties\": {\n        \"dtype\": \"number\",\n        \"std\": 1,\n        \"min\": 0,\n        \"max\": 3,\n        \"num_unique_values\": 4,\n        \"samples\": [\n          2,\n          0\n        ],\n        \"semantic_type\": \"\",\n        \"description\": \"\"\n      }\n    }\n  ]\n}"
            }
          },
          "metadata": {},
          "execution_count": 6
        }
      ]
    },
    {
      "cell_type": "code",
      "source": [
        "# splitting the the data into independent and dependent variables\n",
        "X = data.iloc[:,[0,2,3,7,8,9]]\n",
        "y = data.iloc[:, 6]"
      ],
      "metadata": {
        "id": "4vkEDnoHitU4"
      },
      "execution_count": null,
      "outputs": []
    },
    {
      "cell_type": "code",
      "source": [
        "# Train and Test data\n",
        "X_train, X_test, y_train, y_test = train_test_split(X,y, test_size = 0.2, random_state = 20 )"
      ],
      "metadata": {
        "id": "KrZKItNcl4eK"
      },
      "execution_count": null,
      "outputs": []
    },
    {
      "cell_type": "code",
      "source": [
        "# Scale the data\n",
        "scaler = StandardScaler()\n",
        "scaler.fit(X_train)"
      ],
      "metadata": {
        "colab": {
          "base_uri": "https://localhost:8080/",
          "height": 75
        },
        "id": "gNl7xZjz4q3N",
        "outputId": "832e6fe7-c713-483e-d46d-ffc017e9ab42"
      },
      "execution_count": null,
      "outputs": [
        {
          "output_type": "execute_result",
          "data": {
            "text/plain": [
              "StandardScaler()"
            ],
            "text/html": [
              "<style>#sk-container-id-1 {color: black;background-color: white;}#sk-container-id-1 pre{padding: 0;}#sk-container-id-1 div.sk-toggleable {background-color: white;}#sk-container-id-1 label.sk-toggleable__label {cursor: pointer;display: block;width: 100%;margin-bottom: 0;padding: 0.3em;box-sizing: border-box;text-align: center;}#sk-container-id-1 label.sk-toggleable__label-arrow:before {content: \"▸\";float: left;margin-right: 0.25em;color: #696969;}#sk-container-id-1 label.sk-toggleable__label-arrow:hover:before {color: black;}#sk-container-id-1 div.sk-estimator:hover label.sk-toggleable__label-arrow:before {color: black;}#sk-container-id-1 div.sk-toggleable__content {max-height: 0;max-width: 0;overflow: hidden;text-align: left;background-color: #f0f8ff;}#sk-container-id-1 div.sk-toggleable__content pre {margin: 0.2em;color: black;border-radius: 0.25em;background-color: #f0f8ff;}#sk-container-id-1 input.sk-toggleable__control:checked~div.sk-toggleable__content {max-height: 200px;max-width: 100%;overflow: auto;}#sk-container-id-1 input.sk-toggleable__control:checked~label.sk-toggleable__label-arrow:before {content: \"▾\";}#sk-container-id-1 div.sk-estimator input.sk-toggleable__control:checked~label.sk-toggleable__label {background-color: #d4ebff;}#sk-container-id-1 div.sk-label input.sk-toggleable__control:checked~label.sk-toggleable__label {background-color: #d4ebff;}#sk-container-id-1 input.sk-hidden--visually {border: 0;clip: rect(1px 1px 1px 1px);clip: rect(1px, 1px, 1px, 1px);height: 1px;margin: -1px;overflow: hidden;padding: 0;position: absolute;width: 1px;}#sk-container-id-1 div.sk-estimator {font-family: monospace;background-color: #f0f8ff;border: 1px dotted black;border-radius: 0.25em;box-sizing: border-box;margin-bottom: 0.5em;}#sk-container-id-1 div.sk-estimator:hover {background-color: #d4ebff;}#sk-container-id-1 div.sk-parallel-item::after {content: \"\";width: 100%;border-bottom: 1px solid gray;flex-grow: 1;}#sk-container-id-1 div.sk-label:hover label.sk-toggleable__label {background-color: #d4ebff;}#sk-container-id-1 div.sk-serial::before {content: \"\";position: absolute;border-left: 1px solid gray;box-sizing: border-box;top: 0;bottom: 0;left: 50%;z-index: 0;}#sk-container-id-1 div.sk-serial {display: flex;flex-direction: column;align-items: center;background-color: white;padding-right: 0.2em;padding-left: 0.2em;position: relative;}#sk-container-id-1 div.sk-item {position: relative;z-index: 1;}#sk-container-id-1 div.sk-parallel {display: flex;align-items: stretch;justify-content: center;background-color: white;position: relative;}#sk-container-id-1 div.sk-item::before, #sk-container-id-1 div.sk-parallel-item::before {content: \"\";position: absolute;border-left: 1px solid gray;box-sizing: border-box;top: 0;bottom: 0;left: 50%;z-index: -1;}#sk-container-id-1 div.sk-parallel-item {display: flex;flex-direction: column;z-index: 1;position: relative;background-color: white;}#sk-container-id-1 div.sk-parallel-item:first-child::after {align-self: flex-end;width: 50%;}#sk-container-id-1 div.sk-parallel-item:last-child::after {align-self: flex-start;width: 50%;}#sk-container-id-1 div.sk-parallel-item:only-child::after {width: 0;}#sk-container-id-1 div.sk-dashed-wrapped {border: 1px dashed gray;margin: 0 0.4em 0.5em 0.4em;box-sizing: border-box;padding-bottom: 0.4em;background-color: white;}#sk-container-id-1 div.sk-label label {font-family: monospace;font-weight: bold;display: inline-block;line-height: 1.2em;}#sk-container-id-1 div.sk-label-container {text-align: center;}#sk-container-id-1 div.sk-container {/* jupyter's `normalize.less` sets `[hidden] { display: none; }` but bootstrap.min.css set `[hidden] { display: none !important; }` so we also need the `!important` here to be able to override the default hidden behavior on the sphinx rendered scikit-learn.org. See: https://github.com/scikit-learn/scikit-learn/issues/21755 */display: inline-block !important;position: relative;}#sk-container-id-1 div.sk-text-repr-fallback {display: none;}</style><div id=\"sk-container-id-1\" class=\"sk-top-container\"><div class=\"sk-text-repr-fallback\"><pre>StandardScaler()</pre><b>In a Jupyter environment, please rerun this cell to show the HTML representation or trust the notebook. <br />On GitHub, the HTML representation is unable to render, please try loading this page with nbviewer.org.</b></div><div class=\"sk-container\" hidden><div class=\"sk-item\"><div class=\"sk-estimator sk-toggleable\"><input class=\"sk-toggleable__control sk-hidden--visually\" id=\"sk-estimator-id-1\" type=\"checkbox\" checked><label for=\"sk-estimator-id-1\" class=\"sk-toggleable__label sk-toggleable__label-arrow\">StandardScaler</label><div class=\"sk-toggleable__content\"><pre>StandardScaler()</pre></div></div></div></div></div>"
            ]
          },
          "metadata": {},
          "execution_count": 8
        }
      ]
    },
    {
      "cell_type": "code",
      "source": [
        "X_train_scaled = scaler.transform(X_train)\n",
        "X_test_scaled = scaler.transform(X_test)"
      ],
      "metadata": {
        "id": "NZLw-pqd4-p_"
      },
      "execution_count": null,
      "outputs": []
    },
    {
      "cell_type": "code",
      "source": [
        "# NN model\n",
        "\n",
        "model = Sequential()\n",
        "model.add(Dense(128, input_dim = 6, activation = 'relu'))\n",
        "model.add(Dense(64, activation = 'relu'))\n",
        "model.add(Dense(32, activation = 'relu'))\n",
        "\n",
        "\n",
        "# output layer\n",
        "model.add(Dense(1, activation = 'linear'))\n",
        "\n",
        "model.compile(loss = 'mean_squared_error', optimizer= 'adam', metrics = ['mae'])\n",
        "model.summary()\n"
      ],
      "metadata": {
        "colab": {
          "base_uri": "https://localhost:8080/"
        },
        "id": "qNLrbvS95Y46",
        "outputId": "600f0717-ec55-4468-920b-7c4d1cd96ae3"
      },
      "execution_count": null,
      "outputs": [
        {
          "output_type": "stream",
          "name": "stdout",
          "text": [
            "Model: \"sequential_6\"\n",
            "_________________________________________________________________\n",
            " Layer (type)                Output Shape              Param #   \n",
            "=================================================================\n",
            " dense_26 (Dense)            (None, 128)               896       \n",
            "                                                                 \n",
            " dense_27 (Dense)            (None, 64)                8256      \n",
            "                                                                 \n",
            " dense_28 (Dense)            (None, 32)                2080      \n",
            "                                                                 \n",
            " dense_29 (Dense)            (None, 1)                 33        \n",
            "                                                                 \n",
            "=================================================================\n",
            "Total params: 11265 (44.00 KB)\n",
            "Trainable params: 11265 (44.00 KB)\n",
            "Non-trainable params: 0 (0.00 Byte)\n",
            "_________________________________________________________________\n"
          ]
        }
      ]
    },
    {
      "cell_type": "code",
      "source": [
        "history = model.fit(X_train_scaled, y_train, validation_split = 0.2, epochs = 100)"
      ],
      "metadata": {
        "colab": {
          "base_uri": "https://localhost:8080/"
        },
        "id": "bUymI2fV6-uF",
        "outputId": "0c80f64e-5080-427b-b38c-6f9b43d216f0"
      },
      "execution_count": null,
      "outputs": [
        {
          "output_type": "stream",
          "name": "stdout",
          "text": [
            "Epoch 1/100\n",
            "27/27 [==============================] - 1s 10ms/step - loss: 318189888.0000 - mae: 13171.0635 - val_loss: 331542272.0000 - val_mae: 13505.0645\n",
            "Epoch 2/100\n",
            "27/27 [==============================] - 0s 4ms/step - loss: 316695328.0000 - mae: 13123.6992 - val_loss: 328015712.0000 - val_mae: 13398.3232\n",
            "Epoch 3/100\n",
            "27/27 [==============================] - 0s 4ms/step - loss: 309309888.0000 - mae: 12894.9238 - val_loss: 313015584.0000 - val_mae: 12963.7969\n",
            "Epoch 4/100\n",
            "27/27 [==============================] - 0s 4ms/step - loss: 284270496.0000 - mae: 12140.6846 - val_loss: 270218624.0000 - val_mae: 11719.5957\n",
            "Epoch 5/100\n",
            "27/27 [==============================] - 0s 4ms/step - loss: 227945936.0000 - mae: 10308.3086 - val_loss: 186198192.0000 - val_mae: 9104.0957\n",
            "Epoch 6/100\n",
            "27/27 [==============================] - 0s 4ms/step - loss: 139180976.0000 - mae: 7381.1631 - val_loss: 87097976.0000 - val_mae: 5636.2021\n",
            "Epoch 7/100\n",
            "27/27 [==============================] - 0s 4ms/step - loss: 68732200.0000 - mae: 5320.1694 - val_loss: 39788304.0000 - val_mae: 4461.5098\n",
            "Epoch 8/100\n",
            "27/27 [==============================] - 0s 4ms/step - loss: 47038436.0000 - mae: 5099.2749 - val_loss: 32538366.0000 - val_mae: 4517.9238\n",
            "Epoch 9/100\n",
            "27/27 [==============================] - 0s 4ms/step - loss: 41510584.0000 - mae: 4872.6382 - val_loss: 30161856.0000 - val_mae: 4246.4517\n",
            "Epoch 10/100\n",
            "27/27 [==============================] - 0s 4ms/step - loss: 39072092.0000 - mae: 4586.4019 - val_loss: 28940578.0000 - val_mae: 3983.3948\n",
            "Epoch 11/100\n",
            "27/27 [==============================] - 0s 4ms/step - loss: 37734892.0000 - mae: 4327.9448 - val_loss: 28398316.0000 - val_mae: 3830.4673\n",
            "Epoch 12/100\n",
            "27/27 [==============================] - 0s 4ms/step - loss: 36938688.0000 - mae: 4234.4014 - val_loss: 28156838.0000 - val_mae: 3759.4773\n",
            "Epoch 13/100\n",
            "27/27 [==============================] - 0s 4ms/step - loss: 36511196.0000 - mae: 4181.0312 - val_loss: 27824486.0000 - val_mae: 3684.3811\n",
            "Epoch 14/100\n",
            "27/27 [==============================] - 0s 4ms/step - loss: 36131396.0000 - mae: 4071.3289 - val_loss: 27390886.0000 - val_mae: 3602.9626\n",
            "Epoch 15/100\n",
            "27/27 [==============================] - 0s 4ms/step - loss: 35972072.0000 - mae: 4050.5076 - val_loss: 27612980.0000 - val_mae: 3611.9543\n",
            "Epoch 16/100\n",
            "27/27 [==============================] - 0s 4ms/step - loss: 35546336.0000 - mae: 3999.7593 - val_loss: 26764622.0000 - val_mae: 3504.8394\n",
            "Epoch 17/100\n",
            "27/27 [==============================] - 0s 4ms/step - loss: 35362884.0000 - mae: 3968.0679 - val_loss: 26790210.0000 - val_mae: 3518.8479\n",
            "Epoch 18/100\n",
            "27/27 [==============================] - 0s 4ms/step - loss: 34976452.0000 - mae: 3936.3081 - val_loss: 26553348.0000 - val_mae: 3480.5579\n",
            "Epoch 19/100\n",
            "27/27 [==============================] - 0s 4ms/step - loss: 34736424.0000 - mae: 3895.7202 - val_loss: 26258488.0000 - val_mae: 3450.3760\n",
            "Epoch 20/100\n",
            "27/27 [==============================] - 0s 4ms/step - loss: 34599808.0000 - mae: 3905.6633 - val_loss: 26025756.0000 - val_mae: 3430.3506\n",
            "Epoch 21/100\n",
            "27/27 [==============================] - 0s 4ms/step - loss: 34262468.0000 - mae: 3839.9670 - val_loss: 25607870.0000 - val_mae: 3375.9773\n",
            "Epoch 22/100\n",
            "27/27 [==============================] - 0s 4ms/step - loss: 34062644.0000 - mae: 3836.7625 - val_loss: 25417480.0000 - val_mae: 3380.6335\n",
            "Epoch 23/100\n",
            "27/27 [==============================] - 0s 4ms/step - loss: 33746528.0000 - mae: 3813.7114 - val_loss: 25339028.0000 - val_mae: 3402.1375\n",
            "Epoch 24/100\n",
            "27/27 [==============================] - 0s 4ms/step - loss: 33557584.0000 - mae: 3833.4126 - val_loss: 25288398.0000 - val_mae: 3353.5710\n",
            "Epoch 25/100\n",
            "27/27 [==============================] - 0s 4ms/step - loss: 33253868.0000 - mae: 3736.2175 - val_loss: 24580196.0000 - val_mae: 3290.2832\n",
            "Epoch 26/100\n",
            "27/27 [==============================] - 0s 4ms/step - loss: 33200806.0000 - mae: 3785.8784 - val_loss: 24619728.0000 - val_mae: 3298.9106\n",
            "Epoch 27/100\n",
            "27/27 [==============================] - 0s 4ms/step - loss: 32866368.0000 - mae: 3717.9424 - val_loss: 24296704.0000 - val_mae: 3238.8694\n",
            "Epoch 28/100\n",
            "27/27 [==============================] - 0s 5ms/step - loss: 32658608.0000 - mae: 3728.9851 - val_loss: 24086872.0000 - val_mae: 3256.2451\n",
            "Epoch 29/100\n",
            "27/27 [==============================] - 0s 6ms/step - loss: 32426356.0000 - mae: 3729.3879 - val_loss: 23880888.0000 - val_mae: 3244.2393\n",
            "Epoch 30/100\n",
            "27/27 [==============================] - 0s 6ms/step - loss: 32260112.0000 - mae: 3688.0483 - val_loss: 23674816.0000 - val_mae: 3214.4119\n",
            "Epoch 31/100\n",
            "27/27 [==============================] - 0s 6ms/step - loss: 32133058.0000 - mae: 3630.8323 - val_loss: 23526402.0000 - val_mae: 3173.0566\n",
            "Epoch 32/100\n",
            "27/27 [==============================] - 0s 6ms/step - loss: 31972828.0000 - mae: 3656.9739 - val_loss: 23356454.0000 - val_mae: 3183.2119\n",
            "Epoch 33/100\n",
            "27/27 [==============================] - 0s 6ms/step - loss: 31690586.0000 - mae: 3628.9270 - val_loss: 23342742.0000 - val_mae: 3172.5830\n",
            "Epoch 34/100\n",
            "27/27 [==============================] - 0s 6ms/step - loss: 31623448.0000 - mae: 3605.0166 - val_loss: 23257542.0000 - val_mae: 3165.1572\n",
            "Epoch 35/100\n",
            "27/27 [==============================] - 0s 7ms/step - loss: 31449944.0000 - mae: 3625.3560 - val_loss: 22905896.0000 - val_mae: 3161.5940\n",
            "Epoch 36/100\n",
            "27/27 [==============================] - 0s 6ms/step - loss: 31407106.0000 - mae: 3679.9734 - val_loss: 22817992.0000 - val_mae: 3138.2942\n",
            "Epoch 37/100\n",
            "27/27 [==============================] - 0s 6ms/step - loss: 31186566.0000 - mae: 3564.1030 - val_loss: 22533312.0000 - val_mae: 3106.7532\n",
            "Epoch 38/100\n",
            "27/27 [==============================] - 0s 6ms/step - loss: 31044888.0000 - mae: 3647.4189 - val_loss: 22796674.0000 - val_mae: 3137.3494\n",
            "Epoch 39/100\n",
            "27/27 [==============================] - 0s 5ms/step - loss: 30854234.0000 - mae: 3546.9998 - val_loss: 22289594.0000 - val_mae: 3044.1074\n",
            "Epoch 40/100\n",
            "27/27 [==============================] - 0s 6ms/step - loss: 30796988.0000 - mae: 3550.8345 - val_loss: 22384506.0000 - val_mae: 3088.8650\n",
            "Epoch 41/100\n",
            "27/27 [==============================] - 0s 6ms/step - loss: 30809570.0000 - mae: 3536.0078 - val_loss: 22180230.0000 - val_mae: 3063.3018\n",
            "Epoch 42/100\n",
            "27/27 [==============================] - 0s 6ms/step - loss: 30898644.0000 - mae: 3652.8181 - val_loss: 21904606.0000 - val_mae: 3024.6189\n",
            "Epoch 43/100\n",
            "27/27 [==============================] - 0s 8ms/step - loss: 30829256.0000 - mae: 3475.1382 - val_loss: 21981430.0000 - val_mae: 3086.0281\n",
            "Epoch 44/100\n",
            "27/27 [==============================] - 0s 6ms/step - loss: 30345400.0000 - mae: 3612.3555 - val_loss: 22348398.0000 - val_mae: 3117.3721\n",
            "Epoch 45/100\n",
            "27/27 [==============================] - 0s 6ms/step - loss: 30254512.0000 - mae: 3555.9375 - val_loss: 21734750.0000 - val_mae: 2985.7593\n",
            "Epoch 46/100\n",
            "27/27 [==============================] - 0s 4ms/step - loss: 30191352.0000 - mae: 3471.5276 - val_loss: 21723380.0000 - val_mae: 3030.0505\n",
            "Epoch 47/100\n",
            "27/27 [==============================] - 0s 4ms/step - loss: 30083180.0000 - mae: 3530.9458 - val_loss: 21381278.0000 - val_mae: 2963.4641\n",
            "Epoch 48/100\n",
            "27/27 [==============================] - 0s 4ms/step - loss: 30125854.0000 - mae: 3449.1340 - val_loss: 21829154.0000 - val_mae: 3082.1282\n",
            "Epoch 49/100\n",
            "27/27 [==============================] - 0s 4ms/step - loss: 29947284.0000 - mae: 3558.2532 - val_loss: 21505954.0000 - val_mae: 3042.4133\n",
            "Epoch 50/100\n",
            "27/27 [==============================] - 0s 4ms/step - loss: 29840500.0000 - mae: 3544.7324 - val_loss: 21415092.0000 - val_mae: 2991.5688\n",
            "Epoch 51/100\n",
            "27/27 [==============================] - 0s 4ms/step - loss: 29749382.0000 - mae: 3464.5015 - val_loss: 21272628.0000 - val_mae: 2962.8347\n",
            "Epoch 52/100\n",
            "27/27 [==============================] - 0s 4ms/step - loss: 29697482.0000 - mae: 3472.2307 - val_loss: 21245878.0000 - val_mae: 2973.9216\n",
            "Epoch 53/100\n",
            "27/27 [==============================] - 0s 4ms/step - loss: 29634584.0000 - mae: 3550.0872 - val_loss: 21133764.0000 - val_mae: 2996.2163\n",
            "Epoch 54/100\n",
            "27/27 [==============================] - 0s 4ms/step - loss: 29558178.0000 - mae: 3453.8989 - val_loss: 21104824.0000 - val_mae: 2974.1731\n",
            "Epoch 55/100\n",
            "27/27 [==============================] - 0s 4ms/step - loss: 29467936.0000 - mae: 3467.7791 - val_loss: 20962536.0000 - val_mae: 2949.3875\n",
            "Epoch 56/100\n",
            "27/27 [==============================] - 0s 4ms/step - loss: 29555476.0000 - mae: 3527.3311 - val_loss: 21135320.0000 - val_mae: 2970.3582\n",
            "Epoch 57/100\n",
            "27/27 [==============================] - 0s 4ms/step - loss: 29438348.0000 - mae: 3353.7334 - val_loss: 20919294.0000 - val_mae: 2944.4319\n",
            "Epoch 58/100\n",
            "27/27 [==============================] - 0s 4ms/step - loss: 29343498.0000 - mae: 3434.1243 - val_loss: 21153368.0000 - val_mae: 3000.5479\n",
            "Epoch 59/100\n",
            "27/27 [==============================] - 0s 4ms/step - loss: 29398074.0000 - mae: 3538.0757 - val_loss: 20705858.0000 - val_mae: 2908.8462\n",
            "Epoch 60/100\n",
            "27/27 [==============================] - 0s 4ms/step - loss: 29238322.0000 - mae: 3428.5505 - val_loss: 20753492.0000 - val_mae: 2966.0444\n",
            "Epoch 61/100\n",
            "27/27 [==============================] - 0s 4ms/step - loss: 29104580.0000 - mae: 3448.4836 - val_loss: 20695102.0000 - val_mae: 2904.6013\n",
            "Epoch 62/100\n",
            "27/27 [==============================] - 0s 4ms/step - loss: 28978786.0000 - mae: 3423.7842 - val_loss: 20880322.0000 - val_mae: 2971.2698\n",
            "Epoch 63/100\n",
            "27/27 [==============================] - 0s 4ms/step - loss: 29060844.0000 - mae: 3485.1006 - val_loss: 20621454.0000 - val_mae: 2951.3491\n",
            "Epoch 64/100\n",
            "27/27 [==============================] - 0s 7ms/step - loss: 28904344.0000 - mae: 3434.4724 - val_loss: 20827062.0000 - val_mae: 2944.8381\n",
            "Epoch 65/100\n",
            "27/27 [==============================] - 0s 9ms/step - loss: 28770750.0000 - mae: 3383.0796 - val_loss: 20446870.0000 - val_mae: 2882.8328\n",
            "Epoch 66/100\n",
            "27/27 [==============================] - 0s 8ms/step - loss: 28931506.0000 - mae: 3454.6860 - val_loss: 20472832.0000 - val_mae: 2910.8696\n",
            "Epoch 67/100\n",
            "27/27 [==============================] - 0s 8ms/step - loss: 28901956.0000 - mae: 3415.5833 - val_loss: 20385612.0000 - val_mae: 2908.3706\n",
            "Epoch 68/100\n",
            "27/27 [==============================] - 0s 7ms/step - loss: 28736276.0000 - mae: 3466.2290 - val_loss: 20608812.0000 - val_mae: 2922.5459\n",
            "Epoch 69/100\n",
            "27/27 [==============================] - 0s 7ms/step - loss: 28601964.0000 - mae: 3328.9551 - val_loss: 20318438.0000 - val_mae: 2860.2244\n",
            "Epoch 70/100\n",
            "27/27 [==============================] - 0s 6ms/step - loss: 28532290.0000 - mae: 3413.9360 - val_loss: 20579850.0000 - val_mae: 2934.4524\n",
            "Epoch 71/100\n",
            "27/27 [==============================] - 0s 6ms/step - loss: 28493496.0000 - mae: 3368.2556 - val_loss: 20418552.0000 - val_mae: 2924.1042\n",
            "Epoch 72/100\n",
            "27/27 [==============================] - 0s 6ms/step - loss: 28540088.0000 - mae: 3468.9353 - val_loss: 20514158.0000 - val_mae: 2932.0315\n",
            "Epoch 73/100\n",
            "27/27 [==============================] - 0s 5ms/step - loss: 28387050.0000 - mae: 3316.8970 - val_loss: 20126436.0000 - val_mae: 2827.7915\n",
            "Epoch 74/100\n",
            "27/27 [==============================] - 0s 7ms/step - loss: 28459132.0000 - mae: 3437.8608 - val_loss: 20329982.0000 - val_mae: 2901.8154\n",
            "Epoch 75/100\n",
            "27/27 [==============================] - 0s 6ms/step - loss: 28559248.0000 - mae: 3350.3643 - val_loss: 20366954.0000 - val_mae: 2897.8821\n",
            "Epoch 76/100\n",
            "27/27 [==============================] - 0s 7ms/step - loss: 28308766.0000 - mae: 3398.7786 - val_loss: 20201810.0000 - val_mae: 2894.1045\n",
            "Epoch 77/100\n",
            "27/27 [==============================] - 0s 6ms/step - loss: 28199328.0000 - mae: 3405.6702 - val_loss: 20109498.0000 - val_mae: 2874.2058\n",
            "Epoch 78/100\n",
            "27/27 [==============================] - 0s 6ms/step - loss: 28208894.0000 - mae: 3367.4744 - val_loss: 20265986.0000 - val_mae: 2856.1770\n",
            "Epoch 79/100\n",
            "27/27 [==============================] - 0s 6ms/step - loss: 28147504.0000 - mae: 3362.7104 - val_loss: 20074730.0000 - val_mae: 2844.4919\n",
            "Epoch 80/100\n",
            "27/27 [==============================] - 0s 5ms/step - loss: 28023002.0000 - mae: 3312.4565 - val_loss: 20131202.0000 - val_mae: 2907.4407\n",
            "Epoch 81/100\n",
            "27/27 [==============================] - 0s 5ms/step - loss: 27982054.0000 - mae: 3366.7188 - val_loss: 20406590.0000 - val_mae: 2939.1636\n",
            "Epoch 82/100\n",
            "27/27 [==============================] - 0s 5ms/step - loss: 28129620.0000 - mae: 3391.2173 - val_loss: 19857830.0000 - val_mae: 2769.4187\n",
            "Epoch 83/100\n",
            "27/27 [==============================] - 0s 6ms/step - loss: 27947064.0000 - mae: 3301.2476 - val_loss: 20032436.0000 - val_mae: 2888.5999\n",
            "Epoch 84/100\n",
            "27/27 [==============================] - 0s 5ms/step - loss: 27873024.0000 - mae: 3334.7341 - val_loss: 20122762.0000 - val_mae: 2918.2471\n",
            "Epoch 85/100\n",
            "27/27 [==============================] - 0s 5ms/step - loss: 27840452.0000 - mae: 3380.1465 - val_loss: 19986728.0000 - val_mae: 2861.2922\n",
            "Epoch 86/100\n",
            "27/27 [==============================] - 0s 5ms/step - loss: 27838322.0000 - mae: 3330.0076 - val_loss: 19914074.0000 - val_mae: 2869.8342\n",
            "Epoch 87/100\n",
            "27/27 [==============================] - 0s 4ms/step - loss: 27850542.0000 - mae: 3309.5024 - val_loss: 19721480.0000 - val_mae: 2787.7500\n",
            "Epoch 88/100\n",
            "27/27 [==============================] - 0s 4ms/step - loss: 27668648.0000 - mae: 3326.9590 - val_loss: 20308562.0000 - val_mae: 3003.4885\n",
            "Epoch 89/100\n",
            "27/27 [==============================] - 0s 4ms/step - loss: 27659214.0000 - mae: 3414.4807 - val_loss: 20078694.0000 - val_mae: 2915.3203\n",
            "Epoch 90/100\n",
            "27/27 [==============================] - 0s 4ms/step - loss: 27611128.0000 - mae: 3295.0039 - val_loss: 19827262.0000 - val_mae: 2830.1423\n",
            "Epoch 91/100\n",
            "27/27 [==============================] - 0s 4ms/step - loss: 27551776.0000 - mae: 3330.0369 - val_loss: 19918812.0000 - val_mae: 2875.9897\n",
            "Epoch 92/100\n",
            "27/27 [==============================] - 0s 4ms/step - loss: 27568372.0000 - mae: 3361.9336 - val_loss: 20027470.0000 - val_mae: 2883.0046\n",
            "Epoch 93/100\n",
            "27/27 [==============================] - 0s 4ms/step - loss: 27534196.0000 - mae: 3299.3330 - val_loss: 19909354.0000 - val_mae: 2880.8262\n",
            "Epoch 94/100\n",
            "27/27 [==============================] - 0s 4ms/step - loss: 27496438.0000 - mae: 3322.0020 - val_loss: 20036446.0000 - val_mae: 2870.0515\n",
            "Epoch 95/100\n",
            "27/27 [==============================] - 0s 4ms/step - loss: 27463308.0000 - mae: 3254.2637 - val_loss: 19656718.0000 - val_mae: 2797.1252\n",
            "Epoch 96/100\n",
            "27/27 [==============================] - 0s 5ms/step - loss: 27460764.0000 - mae: 3329.6482 - val_loss: 20212178.0000 - val_mae: 2954.3838\n",
            "Epoch 97/100\n",
            "27/27 [==============================] - 0s 6ms/step - loss: 27321906.0000 - mae: 3290.2451 - val_loss: 19635314.0000 - val_mae: 2836.4541\n",
            "Epoch 98/100\n",
            "27/27 [==============================] - 0s 5ms/step - loss: 27349654.0000 - mae: 3291.6096 - val_loss: 19903710.0000 - val_mae: 2905.7400\n",
            "Epoch 99/100\n",
            "27/27 [==============================] - 0s 5ms/step - loss: 27376122.0000 - mae: 3320.8745 - val_loss: 20040634.0000 - val_mae: 2899.4102\n",
            "Epoch 100/100\n",
            "27/27 [==============================] - 0s 5ms/step - loss: 27262198.0000 - mae: 3268.6111 - val_loss: 19785980.0000 - val_mae: 2876.1948\n"
          ]
        }
      ]
    },
    {
      "cell_type": "code",
      "source": [
        "# plot the train and validation loss at each epoch\n",
        "loss = history.history['loss']\n",
        "val_loss = history.history['val_loss']\n",
        "epochs = range(1,len(loss) + 1)\n",
        "plt.plot(epochs, loss, 'y', label = 'Training loss')\n",
        "plt.plot(epochs, val_loss, 'r', label = 'Validation loss')\n",
        "plt.title('Training and validation loss')\n",
        "plt.xlabel('Epochs')\n",
        "plt.ylabel('Loss')\n",
        "plt.legend()"
      ],
      "metadata": {
        "colab": {
          "base_uri": "https://localhost:8080/",
          "height": 490
        },
        "id": "u8ytvuiJ7bNv",
        "outputId": "21820602-39bd-47d2-fdf4-bf6cec97e65b"
      },
      "execution_count": null,
      "outputs": [
        {
          "output_type": "execute_result",
          "data": {
            "text/plain": [
              "<matplotlib.legend.Legend at 0x790731078a60>"
            ]
          },
          "metadata": {},
          "execution_count": 80
        },
        {
          "output_type": "display_data",
          "data": {
            "text/plain": [
              "<Figure size 640x480 with 1 Axes>"
            ],
            "image/png": "[encoded data removed]"
          },
          "metadata": {}
        }
      ]
    },
    {
      "cell_type": "code",
      "source": [
        "# plot MAE\n",
        "acc = history.history['mae']\n",
        "val_acc = history.history['val_mae']\n",
        "plt.plot(epochs , acc, 'y', label = 'Training MAE')\n",
        "plt.plot(epochs, val_acc, 'r' , label = 'validation')\n",
        "plt.title('Training and validation MAE')\n",
        "plt.xlabel('Epochs')\n",
        "plt.ylabel('Accuracy')\n",
        "plt.legend()\n",
        "\n",
        "\n"
      ],
      "metadata": {
        "colab": {
          "base_uri": "https://localhost:8080/",
          "height": 490
        },
        "id": "cYdRdUHp9aFG",
        "outputId": "6d78631f-e279-46dd-9283-38860a95ef6c"
      },
      "execution_count": null,
      "outputs": [
        {
          "output_type": "execute_result",
          "data": {
            "text/plain": [
              "<matplotlib.legend.Legend at 0x790737c96650>"
            ]
          },
          "metadata": {},
          "execution_count": 81
        },
        {
          "output_type": "display_data",
          "data": {
            "text/plain": [
              "<Figure size 640x480 with 1 Axes>"
            ],
            "image/png": "[encoded data removed]"
          },
          "metadata": {}
        }
      ]
    },
    {
      "cell_type": "code",
      "source": [
        "# Predict\n",
        "predictions = model.predict(X_test_scaled)\n",
        "# Convert the predicted values to a 1D numpy array\n",
        "predicted_values = np.squeeze(predictions)\n",
        "print('Predicted values are : ', predicted_values)\n",
        "print('Real values are: ', y_train.values)"
      ],
      "metadata": {
        "colab": {
          "base_uri": "https://localhost:8080/"
        },
        "id": "V1vsEKHRJ80A",
        "outputId": "f84eac7f-8bcf-4d8d-b5bc-95d5a2332812"
      },
      "execution_count": null,
      "outputs": [
        {
          "output_type": "stream",
          "name": "stdout",
          "text": [
            "9/9 [==============================] - 0s 4ms/step\n",
            "Predicted values are :  [ 3712.5205  4157.904  10527.208  14273.6875  3126.095   4652.784\n",
            "  5918.2314  3838.5427 38675.293  13191.92   17810.414   4781.5293\n",
            "  7773.8716  7191.4355  7333.8223 47245.215  11186.042   4335.316\n",
            " 11807.439   7221.006   8098.032   3558.7744  7927.845   7719.637\n",
            " 19182.186   9147.811  26600.402   7464.955  14407.703  10747.337\n",
            "  8126.7305 12130.402  38545.387  34844.734  12043.4375  3044.325\n",
            "  8607.776   5192.529   4016.3193 14786.515  23375.885   3567.212\n",
            "  3507.9998  6012.9336 16139.623   8429.644  13298.177  48545.004\n",
            " 29106.824  44622.082   4859.465   3103.2673 12510.42    4028.4485\n",
            " 38130.504   3183.9976  7823.42   25672.111  11807.128  19308.625\n",
            " 27572.998  15204.486   4003.7466 13481.939   8128.3164  7922.451\n",
            " 12902.703  10103.046   9607.242   3868.768   5731.3013 37050.332\n",
            "  9095.195  13010.945  14716.672   5290.7505 10312.2705 39643.09\n",
            " 11479.656  43172.29    5712.6895 11954.672  53532.613  10188.82\n",
            "  4620.7227 13930.264  10784.254   5891.422  41324.594  14235.95\n",
            " 16104.412   4649.338  36902.69   12028.785  13651.305   4888.8584\n",
            " 15795.889   2988.0063  4260.283   9349.526  38920.543   4131.7754\n",
            " 10868.848  11597.468   6007.1875  9372.912  15310.998   7491.429\n",
            "  9259.756   7291.9883  8160.3325 13473.926   6190.752   8065.1265\n",
            "  5248.6323  4966.8623 13056.497   8522.117  16129.742   8580.238\n",
            "  9867.91    4023.581  37525.586   5504.0127  4824.04    5592.3086\n",
            "  4685.999   8791.427   7716.959  35389.895  40468.074  16325.051\n",
            "  6245.1934 11885.969   6114.9106  8514.877   9089.715  13164.969\n",
            " 29415.238  14103.778   7177.048  44244.785  44761.754  13946.129\n",
            "  8558.631  12235.15   28076.625   4271.1274  3140.9875  5073.4404\n",
            "  8190.05    3701.5808 48776.63    2782.4702  6251.227   5041.5195\n",
            "  9932.179  10517.993   3999.8977 14377.713  43167.273  10297.967\n",
            "  5071.3633 10573.437  15653.781  11598.816   3345.191   5350.743\n",
            " 16039.699   5463.4595 12554.086  13438.123   4325.1797 34604.145\n",
            "  9707.851  14212.99    7677.772   8520.946  13104.973   4573.615\n",
            " 11263.7    32578.121   6375.574   9600.338  10696.806   9956.572\n",
            " 30008.246  15663.304  12308.208  12822.625   9223.801  13563.009\n",
            " 36276.66    8469.754  24259.637  12383.859   3062.1235  2343.3477\n",
            " 16551.645  14049.643   5217.8984 13206.615  14042.525  12935.941\n",
            " 32597.645  12963.539  13912.293  15798.083   6891.658   6825.7964\n",
            "  9530.902  10138.125  14927.158  13478.561   5797.378  21697.35\n",
            "  7165.0225 18122.824  35856.105  13112.52   26756.32   18843.914\n",
            " 10264.068  49178.848   3573.0176 15048.733  46779.688  10856.276\n",
            " 20146.58    6729.176  35663.992  11641.862  15734.568  14342.994\n",
            "  4853.3496 13616.844  13094.982  12249.476  13231.59   14709.789\n",
            "  9239.501   8077.252  13808.303  12313.926   9909.058  12912.968\n",
            "  5597.518   3415.7307 13065.337   6703.3975  4520.788  29377.355\n",
            "  2585.4294  2613.237  24449.566  28998.215  22052.541   9557.727\n",
            "  4711.159  14870.021   4809.715  27213.43   44066.887  11420.871\n",
            " 23400.209  10171.957   4363.831  28635.47  ]\n",
            "Real values are:  [ 3994.1778  26018.95052  7626.993   ...  1633.9618  42856.838\n",
            " 25382.297  ]\n"
          ]
        }
      ]
    },
    {
      "cell_type": "code",
      "source": [
        "# model evaluation\n",
        "mse_neural, mae_neural = model.evaluate(X_test_scaled, y_test)\n",
        "print('Mean squared error from neural net: ', mse_neural)\n",
        "print('Mean absoulute error from neural net: ', mae_neural)"
      ],
      "metadata": {
        "colab": {
          "base_uri": "https://localhost:8080/"
        },
        "id": "BivQOm-cLW4_",
        "outputId": "826e9041-6921-45d3-e19f-a46b53bc0a47"
      },
      "execution_count": null,
      "outputs": [
        {
          "output_type": "stream",
          "name": "stdout",
          "text": [
            "9/9 [==============================] - 0s 4ms/step - loss: 14965842.0000 - mae: 2351.1406\n",
            "Mean squared error from neural net:  14965842.0\n",
            "Mean absoulute error from neural net:  2351.140625\n"
          ]
        }
      ]
    },
    {
      "cell_type": "code",
      "source": [
        "# Finding performance rate using r2_score\n",
        "r2_score(y_test, predictions)\n",
        "print(f'Performance of the model =  { round(r2_score(y_test,predictions),4)*100}%')"
      ],
      "metadata": {
        "colab": {
          "base_uri": "https://localhost:8080/"
        },
        "id": "pE4zbTRA3I4q",
        "outputId": "b2d1744f-abe5-4ede-d096-e1672832994b"
      },
      "execution_count": null,
      "outputs": [
        {
          "output_type": "stream",
          "name": "stdout",
          "text": [
            "Performance of the model =  89.12%\n"
          ]
        }
      ]
    },
    {
      "cell_type": "code",
      "source": [
        "#Linear Regression\n",
        "lr_model = linear_model.LinearRegression()\n",
        "lr_model.fit(X_train_scaled, y_train)\n",
        "y_pred_lr = lr_model.predict(X_test_scaled)\n",
        "mse_lr = mean_squared_error(y_test, y_pred_lr)\n",
        "mae_lr = mean_absolute_error(y_test, y_pred_lr)\n",
        "print('Mean squared error from linear regression : ', mse_lr)\n",
        "print('Mean absolute error from linear regression : ', mae_lr)\n"
      ],
      "metadata": {
        "colab": {
          "base_uri": "https://localhost:8080/"
        },
        "id": "wTIOjKY_2Ihg",
        "outputId": "97b67225-e617-4006-ec7b-1d32a873b06f"
      },
      "execution_count": null,
      "outputs": [
        {
          "output_type": "stream",
          "name": "stdout",
          "text": [
            "Mean squared error from linear regression :  29948617.86453913\n",
            "Mean absolute error from linear regression :  3911.841515665618\n"
          ]
        }
      ]
    },
    {
      "cell_type": "code",
      "source": [
        "# Finding performance using r2_score\n",
        "r2_score(y_test,y_pred_lr)\n",
        "print(f'The performance of Linear model is = {round(r2_score(y_test,y_pred_lr),4)*100}% ')"
      ],
      "metadata": {
        "colab": {
          "base_uri": "https://localhost:8080/"
        },
        "id": "OJvRbe4a7H1d",
        "outputId": "92107ef2-6e0e-404d-ff99-46f777488515"
      },
      "execution_count": null,
      "outputs": [
        {
          "output_type": "stream",
          "name": "stdout",
          "text": [
            "The performance of Linear model is = 80.05% \n"
          ]
        }
      ]
    },
    {
      "cell_type": "code",
      "source": [
        "# Instantiate the DecisionTreeRegressor\n",
        "tree = DecisionTreeRegressor()\n",
        "\n",
        "# Train the model\n",
        "tree.fit(X_train_scaled, y_train)\n",
        "\n",
        "# Make predictions\n",
        "y_pred_tree = tree.predict(X_test_scaled)\n",
        "\n",
        "# Calculate MSE and MAE\n",
        "mse_dt = mean_squared_error(y_test, y_pred_tree)\n",
        "mae_dt = mean_absolute_error(y_test, y_pred_tree)\n",
        "\n",
        "# Print the results\n",
        "print('Mean squared error of the tree:', mse_dt)\n",
        "print('Mean absolute error of the tree:', mae_dt)\n"
      ],
      "metadata": {
        "colab": {
          "base_uri": "https://localhost:8080/"
        },
        "id": "zIFs0LE33YWo",
        "outputId": "44f81cf4-3d15-46e9-c7d4-a43ae439254a"
      },
      "execution_count": null,
      "outputs": [
        {
          "output_type": "stream",
          "name": "stdout",
          "text": [
            "Mean squared error of the tree: 50100823.53864925\n",
            "Mean absolute error of the tree: 3464.1793505186565\n"
          ]
        }
      ]
    },
    {
      "cell_type": "code",
      "source": [
        "# find the performance of the Tree\n",
        "r2_score(y_test, y_pred_tree)\n",
        "print(f'The performance of Decision Tree is = {round(r2_score(y_test,y_pred_tree),4)*100}%')"
      ],
      "metadata": {
        "colab": {
          "base_uri": "https://localhost:8080/"
        },
        "id": "DjJrxzKU-Kh9",
        "outputId": "158aafb8-83ee-438b-8867-a84927236cc7"
      },
      "execution_count": null,
      "outputs": [
        {
          "output_type": "stream",
          "name": "stdout",
          "text": [
            "The performance of Decision Tree is = 66.63%\n"
          ]
        }
      ]
    },
    {
      "cell_type": "code",
      "source": [
        "# Random forest\n",
        "#Increase number of trees\n",
        "model = RandomForestRegressor(n_estimators = 12, random_state = 30)\n",
        "model.fit(X_train_scaled, y_train)\n",
        "\n",
        "y_pred_rf = model.predict(X_test_scaled)\n",
        "\n",
        "mse_RF = mean_squared_error(y_test, y_pred_rf)\n",
        "mae_RF = mean_absolute_error(y_test, y_pred_rf)\n",
        "print('Mean squared error using Random Forest : ', mse_RF)\n",
        "print(\"Mean absolute error using Random Forest : \", mae_RF)\n"
      ],
      "metadata": {
        "colab": {
          "base_uri": "https://localhost:8080/"
        },
        "id": "KDaHZw8vTHGW",
        "outputId": "219535c6-4c35-44fc-8fad-638a6ec74a0b"
      },
      "execution_count": null,
      "outputs": [
        {
          "output_type": "stream",
          "name": "stdout",
          "text": [
            "Mean squared error using Random Forest :  17830176.94088645\n",
            "Mean absolute error using Random Forest :  2314.807042451182\n"
          ]
        }
      ]
    },
    {
      "cell_type": "code",
      "source": [
        "# Recheck the performance\n",
        "r2_score(y_test, y_pred_rf)\n",
        "print(f'The new performance of the model is = {round(r2_score(y_test,y_pred_rf),4)*100}%')"
      ],
      "metadata": {
        "colab": {
          "base_uri": "https://localhost:8080/"
        },
        "id": "v0-ZCjlS_aJM",
        "outputId": "4ebb3572-09ff-4f85-fed1-74af473e60bb"
      },
      "execution_count": null,
      "outputs": [
        {
          "output_type": "stream",
          "name": "stdout",
          "text": [
            "The new performance of the model is = 88.12%\n"
          ]
        }
      ]
    },
    {
      "cell_type": "code",
      "source": [
        "#Feature ranking\n",
        "\n",
        "# Get the list of feature names\n",
        "feature_list = list(X.columns)\n",
        "\n",
        "# Get the feature importances from the trained Random Forest model\n",
        "feature_imp = pd.Series(model.feature_importances_, index=feature_list).sort_values(ascending=False)\n",
        "\n",
        "# Print the sorted feature importances\n",
        "print(feature_imp)\n",
        "\n"
      ],
      "metadata": {
        "colab": {
          "base_uri": "https://localhost:8080/"
        },
        "id": "q7cZJxgaUDkI",
        "outputId": "3089e5b0-941e-4782-9dca-d6348cc8ad4b"
      },
      "execution_count": null,
      "outputs": [
        {
          "output_type": "stream",
          "name": "stdout",
          "text": [
            "smoker_encoded    0.607003\n",
            "bmi               0.216366\n",
            "age               0.131691\n",
            "children          0.022496\n",
            "region_encoded    0.015711\n",
            "Gender_encoded    0.006733\n",
            "dtype: float64\n"
          ]
        }
      ]
    }
  ]
}